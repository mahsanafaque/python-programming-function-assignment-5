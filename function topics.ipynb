{
 "cells": [
  {
   "cell_type": "code",
   "execution_count": 2,
   "metadata": {},
   "outputs": [
    {
     "name": "stdout",
     "output_type": "stream",
     "text": [
      "6\n"
     ]
    }
   ],
   "source": [
    "def addnum():\n",
    "    firstnum=3\n",
    "    secondnum=3\n",
    "    result=firstnum+secondnum\n",
    "    print(result)\n",
    "addnum()"
   ]
  },
  {
   "cell_type": "code",
   "execution_count": 3,
   "metadata": {},
   "outputs": [
    {
     "name": "stdout",
     "output_type": "stream",
     "text": [
      "30\n"
     ]
    }
   ],
   "source": [
    "def addnum(firstnum,secondnum):\n",
    "    result=firstnum+secondnum\n",
    "    print(result)\n",
    "    \n",
    "addnum(10,20)"
   ]
  },
  {
   "cell_type": "code",
   "execution_count": 4,
   "metadata": {},
   "outputs": [
    {
     "name": "stdout",
     "output_type": "stream",
     "text": [
      "5\n"
     ]
    }
   ],
   "source": [
    "def addnum(firstnum,secondnum):\n",
    "    result=firstnum+secondnum\n",
    "    print(result)\n",
    "    \n",
    "firstnum=2\n",
    "secondnum=3\n",
    "\n",
    "addnum(firstnum,secondnum)"
   ]
  },
  {
   "cell_type": "code",
   "execution_count": 5,
   "metadata": {},
   "outputs": [
    {
     "name": "stdout",
     "output_type": "stream",
     "text": [
      "5\n"
     ]
    }
   ],
   "source": [
    "def addnum(num1,num2):\n",
    "    result=num1+num2\n",
    "    print(result)\n",
    "    \n",
    "firstnum=2\n",
    "secondnum=3\n",
    "\n",
    "addnum(firstnum,secondnum)"
   ]
  },
  {
   "cell_type": "code",
   "execution_count": 6,
   "metadata": {},
   "outputs": [
    {
     "name": "stdout",
     "output_type": "stream",
     "text": [
      "20\n"
     ]
    }
   ],
   "source": [
    "def addnum(firstnum,secondnum):\n",
    "    result=firstnum+secondnum\n",
    "    print(result)\n",
    "    \n",
    "\n",
    "addnum(firstnum=10,secondnum=10)"
   ]
  },
  {
   "cell_type": "code",
   "execution_count": 8,
   "metadata": {},
   "outputs": [
    {
     "name": "stdout",
     "output_type": "stream",
     "text": [
      "-4\n"
     ]
    }
   ],
   "source": [
    "firstnum=8\n",
    "secondnum=4\n",
    "\n",
    "def addnum(secondnum,firstnum):\n",
    "    result=firstnum-secondnum\n",
    "    print(result)\n",
    "    \n",
    "\n",
    "addnum(firstnum,secondnum)"
   ]
  },
  {
   "cell_type": "code",
   "execution_count": 9,
   "metadata": {},
   "outputs": [
    {
     "name": "stdout",
     "output_type": "stream",
     "text": [
      "4\n"
     ]
    }
   ],
   "source": [
    "firstnum=8\n",
    "secondnum=4\n",
    "\n",
    "def addnum(eight,four):\n",
    "    result=eight-four\n",
    "    print(result)\n",
    "    \n",
    "\n",
    "addnum(firstnum,secondnum)"
   ]
  },
  {
   "cell_type": "code",
   "execution_count": 15,
   "metadata": {},
   "outputs": [
    {
     "name": "stdout",
     "output_type": "stream",
     "text": [
      "30\n"
     ]
    }
   ],
   "source": [
    "firstnum=10\n",
    "\n",
    "def myfunc(ten,twenty=20):\n",
    "    result=ten+twenty\n",
    "    print(result)\n",
    "    \n",
    "myfunc(firstnum)"
   ]
  },
  {
   "cell_type": "code",
   "execution_count": 18,
   "metadata": {},
   "outputs": [
    {
     "name": "stdout",
     "output_type": "stream",
     "text": [
      "smit python programming 3 month\n"
     ]
    }
   ],
   "source": [
    "inst=\"smit\"\n",
    "\n",
    "def coursedetail(inst,dur,lang=\"python programming\"):\n",
    "    print(inst + \" \" + lang + \" \" + dur)\n",
    "    \n",
    "coursedetail(inst,dur=\"3 month\")"
   ]
  },
  {
   "cell_type": "code",
   "execution_count": 19,
   "metadata": {},
   "outputs": [
    {
     "name": "stdout",
     "output_type": "stream",
     "text": [
      "my name is Ahsan Afaque\n"
     ]
    }
   ],
   "source": [
    "def func(name,fname):\n",
    "    print(\"my name is \" + name + \" \" + fname)\n",
    "    \n",
    "func(name=\"Ahsan\",fname=\"Afaque\")"
   ]
  },
  {
   "cell_type": "code",
   "execution_count": 23,
   "metadata": {},
   "outputs": [
    {
     "name": "stdout",
     "output_type": "stream",
     "text": [
      "my name is Ahsan Afaque\n",
      "mahsanleo@gmail.com\n",
      "03362264410\n",
      "Karachi\n"
     ]
    }
   ],
   "source": [
    "def func(name,fname,*perameter):\n",
    "    print(\"my name is \" + name + \" \" + fname)\n",
    "    for param in perameter :\n",
    "        print(param)\n",
    "    \n",
    "func(\"Ahsan\",\"Afaque\",\"mahsanleo@gmail.com\",\"03362264410\",\"Karachi\")"
   ]
  },
  {
   "cell_type": "code",
   "execution_count": 26,
   "metadata": {},
   "outputs": [
    {
     "name": "stdout",
     "output_type": "stream",
     "text": [
      "my name is Ahsan Afaque\n",
      "email:mahsanleo@gmail.com\n",
      "phonenum:03362264410\n",
      "city:Karachi\n"
     ]
    }
   ],
   "source": [
    "def func(name,fname,**perameter):\n",
    "    print(\"my name is \" + name + \" \" + fname)\n",
    "    for key,value in perameter.items():\n",
    "        print(key + \":\" + value)\n",
    "    \n",
    "    \n",
    "func(\"Ahsan\",\"Afaque\",email=\"mahsanleo@gmail.com\",phonenum=\"03362264410\",city=\"Karachi\")"
   ]
  },
  {
   "cell_type": "code",
   "execution_count": 27,
   "metadata": {},
   "outputs": [
    {
     "name": "stdout",
     "output_type": "stream",
     "text": [
      "3\n"
     ]
    }
   ],
   "source": [
    "def rfunc():\n",
    "    num1=1\n",
    "    num2=2\n",
    "    result=num1+num2\n",
    "    return result\n",
    "    \n",
    "return_var= rfunc()\n",
    "print(return_var)"
   ]
  },
  {
   "cell_type": "code",
   "execution_count": 29,
   "metadata": {},
   "outputs": [
    {
     "name": "stdout",
     "output_type": "stream",
     "text": [
      "3\n",
      "7\n",
      "10\n"
     ]
    }
   ],
   "source": [
    "def r1func():\n",
    "    num1=1\n",
    "    num2=2\n",
    "    result=num1+num2\n",
    "    return result\n",
    "    \n",
    "return_var1= r1func()\n",
    "print(return_var1)\n",
    "\n",
    "def r2func():\n",
    "    num3=3\n",
    "    num4=4\n",
    "    result2=num3+num4\n",
    "    return result2\n",
    "    \n",
    "return_var2= r2func()\n",
    "print(return_var2)\n",
    "\n",
    "\n",
    "finalresult=return_var1+return_var2\n",
    "print(finalresult)"
   ]
  },
  {
   "cell_type": "code",
   "execution_count": 32,
   "metadata": {},
   "outputs": [
    {
     "name": "stdout",
     "output_type": "stream",
     "text": [
      "what is your name?Ahsan\n",
      "Ahsan is enrolled in smit python programming 3 months\n"
     ]
    }
   ],
   "source": [
    "# Ahsan is enrolled in SMIT PYTHON Programming 3 Months\n",
    "\n",
    "def courseinfo():\n",
    "    inst=\"smit\"\n",
    "    lang=\"python programming\"\n",
    "    duration=\"3 months\"\n",
    "    \n",
    "    return (inst + \" \" + lang + \" \" + duration) # SMIT PYTHON Programming 3 Months\n",
    "    \n",
    "def userinfo():\n",
    "    name=input(\"what is your name?\")\n",
    "    result= name+\" \" + \"is enrolled in\" + \" \" + courseinfo()\n",
    "    return result\n",
    "\n",
    "wholeinfo=userinfo()\n",
    "\n",
    "print(wholeinfo)"
   ]
  },
  {
   "cell_type": "code",
   "execution_count": null,
   "metadata": {},
   "outputs": [],
   "source": []
  }
 ],
 "metadata": {
  "kernelspec": {
   "display_name": "Python 3",
   "language": "python",
   "name": "python3"
  },
  "language_info": {
   "codemirror_mode": {
    "name": "ipython",
    "version": 3
   },
   "file_extension": ".py",
   "mimetype": "text/x-python",
   "name": "python",
   "nbconvert_exporter": "python",
   "pygments_lexer": "ipython3",
   "version": "3.7.4"
  }
 },
 "nbformat": 4,
 "nbformat_minor": 2
}
